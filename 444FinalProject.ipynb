{
  "cells": [
    {
      "cell_type": "markdown",
      "metadata": {
        "id": "0sT6n2bgT9Gy"
      },
      "source": [
        "# 444 Final Project\n",
        "\n"
      ]
    },
    {
      "cell_type": "markdown",
      "metadata": {
        "id": "7i0IpXhzUP7L"
      },
      "source": [
        "## Importing and Inspecting the Data"
      ]
    },
    {
      "cell_type": "code",
      "execution_count": 1,
      "metadata": {
        "colab": {
          "base_uri": "https://localhost:8080/"
        },
        "id": "DUXLGUC7UTYT",
        "outputId": "c40d9474-1041-4ffb-a776-380546e4a4bc"
      },
      "outputs": [
        {
          "name": "stdout",
          "output_type": "stream",
          "text": [
            "   id  Gender   Age           City Profession  Academic Pressure  \\\n",
            "0   2    Male  33.0  Visakhapatnam    Student                5.0   \n",
            "1   8  Female  24.0      Bangalore    Student                2.0   \n",
            "2  26    Male  31.0       Srinagar    Student                3.0   \n",
            "3  30  Female  28.0       Varanasi    Student                3.0   \n",
            "4  32  Female  25.0         Jaipur    Student                4.0   \n",
            "\n",
            "   Work Pressure  CGPA  Study Satisfaction  Job Satisfaction  \\\n",
            "0            0.0  8.97                 2.0               0.0   \n",
            "1            0.0  5.90                 5.0               0.0   \n",
            "2            0.0  7.03                 5.0               0.0   \n",
            "3            0.0  5.59                 2.0               0.0   \n",
            "4            0.0  8.13                 3.0               0.0   \n",
            "\n",
            "        Sleep Duration Dietary Habits   Degree  \\\n",
            "0          '5-6 hours'        Healthy  B.Pharm   \n",
            "1          '5-6 hours'       Moderate      BSc   \n",
            "2  'Less than 5 hours'        Healthy       BA   \n",
            "3          '7-8 hours'       Moderate      BCA   \n",
            "4          '5-6 hours'       Moderate   M.Tech   \n",
            "\n",
            "  Have you ever had suicidal thoughts ?  Work/Study Hours Financial Stress  \\\n",
            "0                                   Yes               3.0              1.0   \n",
            "1                                    No               3.0              2.0   \n",
            "2                                    No               9.0              1.0   \n",
            "3                                   Yes               4.0              5.0   \n",
            "4                                   Yes               1.0              1.0   \n",
            "\n",
            "  Family History of Mental Illness  Depression  \n",
            "0                               No           1  \n",
            "1                              Yes           0  \n",
            "2                              Yes           0  \n",
            "3                              Yes           1  \n",
            "4                               No           0  \n"
          ]
        }
      ],
      "source": [
        "# prompt: Read in a dataset called student_depression_dataset.csv and inspect the first few rows.\n",
        "\n",
        "import pandas as pd\n",
        "\n",
        "# Load the dataset\n",
        "try:\n",
        "  df = pd.read_csv('student_depression_dataset.csv')\n",
        "except FileNotFoundError:\n",
        "  print(\"Error: 'student_depression_dataset.csv' not found. Please upload the file to your current working directory or provide the correct path.\")\n",
        "except Exception as e:\n",
        "  print(f\"An error occurred: {e}\")\n",
        "else:\n",
        "  # Inspect the first few rows\n",
        "  print(df.head())\n"
      ]
    },
    {
      "cell_type": "code",
      "execution_count": 2,
      "metadata": {
        "colab": {
          "base_uri": "https://localhost:8080/"
        },
        "id": "dbqOQkR0Y_Bk",
        "outputId": "03d2a650-6b1f-4686-8a25-69dbfdfdfb09"
      },
      "outputs": [
        {
          "name": "stdout",
          "output_type": "stream",
          "text": [
            "Work Pressure\n",
            "0.0    27898\n",
            "5.0        2\n",
            "2.0        1\n",
            "Name: count, dtype: int64\n"
          ]
        },
        {
          "name": "stderr",
          "output_type": "stream",
          "text": [
            "C:\\Users\\nicks\\AppData\\Local\\Temp\\ipykernel_19528\\1444725370.py:8: FutureWarning: DataFrame.applymap has been deprecated. Use DataFrame.map instead.\n",
            "  mask = df.applymap(lambda x: x == '?')\n"
          ]
        }
      ],
      "source": [
        "# How many records have each value of 'Work Pressure'\n",
        "print(df['Work Pressure'].value_counts())\n",
        "\n",
        "# Remove column, as it seems to be erroneously entered/ not consistently asked.\n",
        "df = df.drop(columns=['Work Pressure'])\n",
        "\n",
        "# Remove rows with ?\n",
        "mask = df.applymap(lambda x: x == '?')\n",
        "df = df[~mask.any(axis=1)]\n"
      ]
    },
    {
      "cell_type": "code",
      "execution_count": 3,
      "metadata": {
        "colab": {
          "base_uri": "https://localhost:8080/"
        },
        "id": "BTOJkHsWViHN",
        "outputId": "3a3146d7-8fdd-4ef1-e8d2-2e0fddc20d4e"
      },
      "outputs": [
        {
          "name": "stdout",
          "output_type": "stream",
          "text": [
            "id                                       0\n",
            "Gender                                   0\n",
            "Age                                      0\n",
            "City                                     0\n",
            "Profession                               0\n",
            "Academic Pressure                        0\n",
            "CGPA                                     0\n",
            "Study Satisfaction                       0\n",
            "Job Satisfaction                         0\n",
            "Sleep Duration                           0\n",
            "Dietary Habits                           0\n",
            "Degree                                   0\n",
            "Have you ever had suicidal thoughts ?    0\n",
            "Work/Study Hours                         0\n",
            "Financial Stress                         0\n",
            "Family History of Mental Illness         0\n",
            "Depression                               0\n",
            "dtype: int64\n",
            "27898\n",
            "Index(['id', 'Gender', 'Age', 'City', 'Profession', 'Academic Pressure',\n",
            "       'CGPA', 'Study Satisfaction', 'Job Satisfaction', 'Sleep Duration',\n",
            "       'Dietary Habits', 'Degree', 'Have you ever had suicidal thoughts ?',\n",
            "       'Work/Study Hours', 'Financial Stress',\n",
            "       'Family History of Mental Illness', 'Depression'],\n",
            "      dtype='object')\n",
            "Unique values for Gender: ['Male' 'Female']\n",
            "Unique values for City: ['Visakhapatnam' 'Bangalore' 'Srinagar' 'Varanasi' 'Jaipur' 'Pune' 'Thane'\n",
            " 'Chennai' 'Nagpur' 'Nashik' 'Vadodara' 'Kalyan' 'Rajkot' 'Ahmedabad'\n",
            " 'Kolkata' 'Mumbai' 'Lucknow' 'Indore' 'Surat' 'Ludhiana' 'Bhopal'\n",
            " 'Meerut' 'Agra' 'Ghaziabad' 'Hyderabad' 'Vasai-Virar' 'Kanpur' 'Patna'\n",
            " 'Faridabad' 'Delhi' 'Saanvi' 'M.Tech' 'Bhavna' \"'Less Delhi'\" 'City'\n",
            " '3.0' \"'Less than 5 Kalyan'\" 'Mira' 'Harsha' 'Vaanya' 'Gaurav' 'Harsh'\n",
            " 'Reyansh' 'Kibara' 'Rashi' 'ME' 'M.Com' 'Nalyan' 'Mihir' 'Nalini'\n",
            " 'Nandini' 'Khaziabad']\n",
            "Unique values for Profession: ['Student' \"'Civil Engineer'\" 'Architect' \"'UX/UI Designer'\"\n",
            " \"'Digital Marketer'\" \"'Content Writer'\" \"'Educational Consultant'\"\n",
            " 'Teacher' 'Manager' 'Chef' 'Doctor' 'Lawyer' 'Entrepreneur' 'Pharmacist']\n",
            "Unique values for Degree: ['B.Pharm' 'BSc' 'BA' 'BCA' 'M.Tech' 'PhD' \"'Class 12'\" 'B.Ed' 'LLB' 'BE'\n",
            " 'M.Ed' 'MSc' 'BHM' 'M.Pharm' 'MCA' 'MA' 'B.Com' 'MD' 'MBA' 'MBBS' 'M.Com'\n",
            " 'B.Arch' 'LLM' 'B.Tech' 'BBA' 'ME' 'MHM' 'Others']\n",
            "Unique values for Sleep Duration: [\"'5-6 hours'\" \"'Less than 5 hours'\" \"'7-8 hours'\" \"'More than 8 hours'\"\n",
            " 'Others']\n",
            "Unique values for Dietary Habits: ['Healthy' 'Moderate' 'Unhealthy' 'Others']\n",
            "Unique values for Have you ever had suicidal thoughts ?: ['Yes' 'No']\n",
            "id                                         int64\n",
            "Gender                                    object\n",
            "Age                                      float64\n",
            "City                                      object\n",
            "Profession                                object\n",
            "Academic Pressure                        float64\n",
            "CGPA                                     float64\n",
            "Study Satisfaction                       float64\n",
            "Job Satisfaction                         float64\n",
            "Sleep Duration                            object\n",
            "Dietary Habits                            object\n",
            "Degree                                    object\n",
            "Have you ever had suicidal thoughts ?     object\n",
            "Work/Study Hours                         float64\n",
            "Financial Stress                          object\n",
            "Family History of Mental Illness          object\n",
            "Depression                                 int64\n",
            "dtype: object\n"
          ]
        }
      ],
      "source": [
        "# Check for nulls\n",
        "print(df.isnull().sum())\n",
        "# Print number of records\n",
        "print(len(df))\n",
        "# Print the feature names\n",
        "print(df.columns)\n",
        "# Print the unique values of the categorical variables\n",
        "# List of categorical columns\n",
        "categorical_columns = ['Gender', 'City', 'Profession', 'Degree', 'Sleep Duration', 'Dietary Habits', 'Have you ever had suicidal thoughts ?']\n",
        "\n",
        "# Print unique values for each categorical column\n",
        "for column in categorical_columns:\n",
        "    print(f\"Unique values for {column}: {df[column].unique()}\")\n",
        "\n",
        "# Print the type of each variable\n",
        "print(df.dtypes)\n"
      ]
    },
    {
      "cell_type": "code",
      "execution_count": 4,
      "metadata": {
        "colab": {
          "base_uri": "https://localhost:8080/"
        },
        "id": "_qlWStR6bPQN",
        "outputId": "5c60f5e0-e2d8-4227-b9b6-0f945e6622d4"
      },
      "outputs": [],
      "source": [
        "# Make the family history binary\n",
        "df['Family History of Mental Illness'] = df['Family History of Mental Illness'].apply(lambda x: 1 if x == 'Yes' else 0)\n",
        "# Make the suicidal thoughts binary\n",
        "df['Have you ever had suicidal thoughts ?'] = df['Have you ever had suicidal thoughts ?'].apply(lambda x: 1 if x == 'Yes' else 0)"
      ]
    },
    {
      "cell_type": "code",
      "execution_count": 5,
      "metadata": {
        "id": "tcCu2x1TYJOC"
      },
      "outputs": [],
      "source": [
        "# Strip the double quotation marks from anything if they are there\n",
        "df = df.apply(lambda x: x.str.strip(\"'\") if x.dtype == \"object\" else x)"
      ]
    },
    {
      "cell_type": "code",
      "execution_count": 6,
      "metadata": {
        "colab": {
          "base_uri": "https://localhost:8080/"
        },
        "id": "Q6UNzdrJW0Av",
        "outputId": "118642d5-e06d-4a18-88d9-d54fdfb7c6d0"
      },
      "outputs": [
        {
          "name": "stdout",
          "output_type": "stream",
          "text": [
            "Number of records after removing invalid cities: 27872\n",
            "Unique values for Gender: ['Male' 'Female']\n",
            "Unique values for City: ['Visakhapatnam' 'Bangalore' 'Srinagar' 'Varanasi' 'Jaipur' 'Pune' 'Thane'\n",
            " 'Chennai' 'Nagpur' 'Nashik' 'Vadodara' 'Kalyan' 'Rajkot' 'Ahmedabad'\n",
            " 'Kolkata' 'Mumbai' 'Lucknow' 'Indore' 'Surat' 'Ludhiana' 'Bhopal'\n",
            " 'Meerut' 'Agra' 'Ghaziabad' 'Hyderabad' 'Vasai-Virar' 'Kanpur' 'Patna'\n",
            " 'Faridabad' 'Delhi']\n",
            "Unique values for Profession: ['Student' 'Civil Engineer' 'Architect' 'UX/UI Designer'\n",
            " 'Digital Marketer' 'Content Writer' 'Educational Consultant' 'Teacher'\n",
            " 'Manager' 'Chef' 'Doctor' 'Lawyer' 'Entrepreneur' 'Pharmacist']\n",
            "Unique values for Degree: ['B.Pharm' 'BSc' 'BA' 'BCA' 'M.Tech' 'PhD' 'Class 12' 'B.Ed' 'LLB' 'BE'\n",
            " 'M.Ed' 'MSc' 'BHM' 'M.Pharm' 'MCA' 'MA' 'B.Com' 'MD' 'MBA' 'MBBS' 'M.Com'\n",
            " 'B.Arch' 'LLM' 'B.Tech' 'BBA' 'ME' 'MHM' 'Others']\n",
            "Unique values for Sleep Duration: ['5-6 hours' 'Less than 5 hours' '7-8 hours' 'More than 8 hours' 'Others']\n",
            "Unique values for Dietary Habits: ['Healthy' 'Moderate' 'Unhealthy' 'Others']\n",
            "Unique values for Have you ever had suicidal thoughts ?: [1 0]\n"
          ]
        }
      ],
      "source": [
        "# Remove the incorrect city name records.\n",
        "# Define the list of valid cities\n",
        "valid_cities = ['Visakhapatnam', 'Bangalore', 'Srinagar', 'Varanasi', 'Jaipur', 'Pune',\n",
        "                'Thane', 'Chennai', 'Nagpur', 'Nashik', 'Vadodara', 'Kalyan', 'Rajkot',\n",
        "                'Ahmedabad', 'Kolkata', 'Mumbai', 'Lucknow', 'Indore', 'Surat', 'Ludhiana',\n",
        "                'Bhopal', 'Meerut', 'Agra', 'Ghaziabad', 'Hyderabad', 'Vasai-Virar', 'Kanpur',\n",
        "                'Patna', 'Faridabad', 'Delhi']\n",
        "\n",
        "# Filter the DataFrame to keep only rows with valid cities\n",
        "df = df[df['City'].isin(valid_cities)]\n",
        "\n",
        "# Check the shape after cleaning\n",
        "print(f'Number of records after removing invalid cities: {df.shape[0]}')\n",
        "for column in categorical_columns:\n",
        "    print(f\"Unique values for {column}: {df[column].unique()}\")"
      ]
    },
    {
      "cell_type": "markdown",
      "metadata": {
        "id": "iTVUeJePUMiC"
      },
      "source": [
        "## Linear Regression Model"
      ]
    },
    {
      "cell_type": "markdown",
      "metadata": {
        "id": "Tu_MYbRbZT_J"
      },
      "source": [
        "### Setup the scaler and encoding\n"
      ]
    },
    {
      "cell_type": "code",
      "execution_count": 7,
      "metadata": {
        "id": "6MVGAb7STy26"
      },
      "outputs": [],
      "source": [
        "from sklearn.preprocessing import StandardScaler\n",
        "from sklearn.linear_model import LinearRegression\n",
        "\n",
        "# Perform one-hot encoding for categorical variables\n",
        "df_encoded = pd.get_dummies(df, columns=categorical_columns, drop_first=True)\n",
        "\n",
        "# Features (X) and target (y)\n",
        "X = df_encoded.drop(columns=['Depression', 'id'])  # Drop 'Depression' as it's the target variable\n",
        "y = df_encoded['Depression']  # Target variable\n",
        "df_encoded.head()\n",
        "\n",
        "# Scaling\n",
        "scaler = StandardScaler()\n",
        "X_scaled = scaler.fit_transform(X)"
      ]
    },
    {
      "cell_type": "code",
      "execution_count": 8,
      "metadata": {
        "id": "bhzgFvYxcKFS"
      },
      "outputs": [],
      "source": [
        "# Train test split\n",
        "from sklearn.model_selection import train_test_split\n",
        "X_train, X_test, y_train, y_test = train_test_split(X_scaled, y, test_size=0.25, random_state=42)\n"
      ]
    },
    {
      "cell_type": "code",
      "execution_count": 9,
      "metadata": {
        "colab": {
          "base_uri": "https://localhost:8080/",
          "height": 80
        },
        "id": "BPLKePYud3so",
        "outputId": "d5db231a-6581-4a24-fe5d-6ae98008eecb"
      },
      "outputs": [
        {
          "data": {
            "text/html": [
              "<style>#sk-container-id-1 {\n",
              "  /* Definition of color scheme common for light and dark mode */\n",
              "  --sklearn-color-text: black;\n",
              "  --sklearn-color-line: gray;\n",
              "  /* Definition of color scheme for unfitted estimators */\n",
              "  --sklearn-color-unfitted-level-0: #fff5e6;\n",
              "  --sklearn-color-unfitted-level-1: #f6e4d2;\n",
              "  --sklearn-color-unfitted-level-2: #ffe0b3;\n",
              "  --sklearn-color-unfitted-level-3: chocolate;\n",
              "  /* Definition of color scheme for fitted estimators */\n",
              "  --sklearn-color-fitted-level-0: #f0f8ff;\n",
              "  --sklearn-color-fitted-level-1: #d4ebff;\n",
              "  --sklearn-color-fitted-level-2: #b3dbfd;\n",
              "  --sklearn-color-fitted-level-3: cornflowerblue;\n",
              "\n",
              "  /* Specific color for light theme */\n",
              "  --sklearn-color-text-on-default-background: var(--sg-text-color, var(--theme-code-foreground, var(--jp-content-font-color1, black)));\n",
              "  --sklearn-color-background: var(--sg-background-color, var(--theme-background, var(--jp-layout-color0, white)));\n",
              "  --sklearn-color-border-box: var(--sg-text-color, var(--theme-code-foreground, var(--jp-content-font-color1, black)));\n",
              "  --sklearn-color-icon: #696969;\n",
              "\n",
              "  @media (prefers-color-scheme: dark) {\n",
              "    /* Redefinition of color scheme for dark theme */\n",
              "    --sklearn-color-text-on-default-background: var(--sg-text-color, var(--theme-code-foreground, var(--jp-content-font-color1, white)));\n",
              "    --sklearn-color-background: var(--sg-background-color, var(--theme-background, var(--jp-layout-color0, #111)));\n",
              "    --sklearn-color-border-box: var(--sg-text-color, var(--theme-code-foreground, var(--jp-content-font-color1, white)));\n",
              "    --sklearn-color-icon: #878787;\n",
              "  }\n",
              "}\n",
              "\n",
              "#sk-container-id-1 {\n",
              "  color: var(--sklearn-color-text);\n",
              "}\n",
              "\n",
              "#sk-container-id-1 pre {\n",
              "  padding: 0;\n",
              "}\n",
              "\n",
              "#sk-container-id-1 input.sk-hidden--visually {\n",
              "  border: 0;\n",
              "  clip: rect(1px 1px 1px 1px);\n",
              "  clip: rect(1px, 1px, 1px, 1px);\n",
              "  height: 1px;\n",
              "  margin: -1px;\n",
              "  overflow: hidden;\n",
              "  padding: 0;\n",
              "  position: absolute;\n",
              "  width: 1px;\n",
              "}\n",
              "\n",
              "#sk-container-id-1 div.sk-dashed-wrapped {\n",
              "  border: 1px dashed var(--sklearn-color-line);\n",
              "  margin: 0 0.4em 0.5em 0.4em;\n",
              "  box-sizing: border-box;\n",
              "  padding-bottom: 0.4em;\n",
              "  background-color: var(--sklearn-color-background);\n",
              "}\n",
              "\n",
              "#sk-container-id-1 div.sk-container {\n",
              "  /* jupyter's `normalize.less` sets `[hidden] { display: none; }`\n",
              "     but bootstrap.min.css set `[hidden] { display: none !important; }`\n",
              "     so we also need the `!important` here to be able to override the\n",
              "     default hidden behavior on the sphinx rendered scikit-learn.org.\n",
              "     See: https://github.com/scikit-learn/scikit-learn/issues/21755 */\n",
              "  display: inline-block !important;\n",
              "  position: relative;\n",
              "}\n",
              "\n",
              "#sk-container-id-1 div.sk-text-repr-fallback {\n",
              "  display: none;\n",
              "}\n",
              "\n",
              "div.sk-parallel-item,\n",
              "div.sk-serial,\n",
              "div.sk-item {\n",
              "  /* draw centered vertical line to link estimators */\n",
              "  background-image: linear-gradient(var(--sklearn-color-text-on-default-background), var(--sklearn-color-text-on-default-background));\n",
              "  background-size: 2px 100%;\n",
              "  background-repeat: no-repeat;\n",
              "  background-position: center center;\n",
              "}\n",
              "\n",
              "/* Parallel-specific style estimator block */\n",
              "\n",
              "#sk-container-id-1 div.sk-parallel-item::after {\n",
              "  content: \"\";\n",
              "  width: 100%;\n",
              "  border-bottom: 2px solid var(--sklearn-color-text-on-default-background);\n",
              "  flex-grow: 1;\n",
              "}\n",
              "\n",
              "#sk-container-id-1 div.sk-parallel {\n",
              "  display: flex;\n",
              "  align-items: stretch;\n",
              "  justify-content: center;\n",
              "  background-color: var(--sklearn-color-background);\n",
              "  position: relative;\n",
              "}\n",
              "\n",
              "#sk-container-id-1 div.sk-parallel-item {\n",
              "  display: flex;\n",
              "  flex-direction: column;\n",
              "}\n",
              "\n",
              "#sk-container-id-1 div.sk-parallel-item:first-child::after {\n",
              "  align-self: flex-end;\n",
              "  width: 50%;\n",
              "}\n",
              "\n",
              "#sk-container-id-1 div.sk-parallel-item:last-child::after {\n",
              "  align-self: flex-start;\n",
              "  width: 50%;\n",
              "}\n",
              "\n",
              "#sk-container-id-1 div.sk-parallel-item:only-child::after {\n",
              "  width: 0;\n",
              "}\n",
              "\n",
              "/* Serial-specific style estimator block */\n",
              "\n",
              "#sk-container-id-1 div.sk-serial {\n",
              "  display: flex;\n",
              "  flex-direction: column;\n",
              "  align-items: center;\n",
              "  background-color: var(--sklearn-color-background);\n",
              "  padding-right: 1em;\n",
              "  padding-left: 1em;\n",
              "}\n",
              "\n",
              "\n",
              "/* Toggleable style: style used for estimator/Pipeline/ColumnTransformer box that is\n",
              "clickable and can be expanded/collapsed.\n",
              "- Pipeline and ColumnTransformer use this feature and define the default style\n",
              "- Estimators will overwrite some part of the style using the `sk-estimator` class\n",
              "*/\n",
              "\n",
              "/* Pipeline and ColumnTransformer style (default) */\n",
              "\n",
              "#sk-container-id-1 div.sk-toggleable {\n",
              "  /* Default theme specific background. It is overwritten whether we have a\n",
              "  specific estimator or a Pipeline/ColumnTransformer */\n",
              "  background-color: var(--sklearn-color-background);\n",
              "}\n",
              "\n",
              "/* Toggleable label */\n",
              "#sk-container-id-1 label.sk-toggleable__label {\n",
              "  cursor: pointer;\n",
              "  display: block;\n",
              "  width: 100%;\n",
              "  margin-bottom: 0;\n",
              "  padding: 0.5em;\n",
              "  box-sizing: border-box;\n",
              "  text-align: center;\n",
              "}\n",
              "\n",
              "#sk-container-id-1 label.sk-toggleable__label-arrow:before {\n",
              "  /* Arrow on the left of the label */\n",
              "  content: \"▸\";\n",
              "  float: left;\n",
              "  margin-right: 0.25em;\n",
              "  color: var(--sklearn-color-icon);\n",
              "}\n",
              "\n",
              "#sk-container-id-1 label.sk-toggleable__label-arrow:hover:before {\n",
              "  color: var(--sklearn-color-text);\n",
              "}\n",
              "\n",
              "/* Toggleable content - dropdown */\n",
              "\n",
              "#sk-container-id-1 div.sk-toggleable__content {\n",
              "  max-height: 0;\n",
              "  max-width: 0;\n",
              "  overflow: hidden;\n",
              "  text-align: left;\n",
              "  /* unfitted */\n",
              "  background-color: var(--sklearn-color-unfitted-level-0);\n",
              "}\n",
              "\n",
              "#sk-container-id-1 div.sk-toggleable__content.fitted {\n",
              "  /* fitted */\n",
              "  background-color: var(--sklearn-color-fitted-level-0);\n",
              "}\n",
              "\n",
              "#sk-container-id-1 div.sk-toggleable__content pre {\n",
              "  margin: 0.2em;\n",
              "  border-radius: 0.25em;\n",
              "  color: var(--sklearn-color-text);\n",
              "  /* unfitted */\n",
              "  background-color: var(--sklearn-color-unfitted-level-0);\n",
              "}\n",
              "\n",
              "#sk-container-id-1 div.sk-toggleable__content.fitted pre {\n",
              "  /* unfitted */\n",
              "  background-color: var(--sklearn-color-fitted-level-0);\n",
              "}\n",
              "\n",
              "#sk-container-id-1 input.sk-toggleable__control:checked~div.sk-toggleable__content {\n",
              "  /* Expand drop-down */\n",
              "  max-height: 200px;\n",
              "  max-width: 100%;\n",
              "  overflow: auto;\n",
              "}\n",
              "\n",
              "#sk-container-id-1 input.sk-toggleable__control:checked~label.sk-toggleable__label-arrow:before {\n",
              "  content: \"▾\";\n",
              "}\n",
              "\n",
              "/* Pipeline/ColumnTransformer-specific style */\n",
              "\n",
              "#sk-container-id-1 div.sk-label input.sk-toggleable__control:checked~label.sk-toggleable__label {\n",
              "  color: var(--sklearn-color-text);\n",
              "  background-color: var(--sklearn-color-unfitted-level-2);\n",
              "}\n",
              "\n",
              "#sk-container-id-1 div.sk-label.fitted input.sk-toggleable__control:checked~label.sk-toggleable__label {\n",
              "  background-color: var(--sklearn-color-fitted-level-2);\n",
              "}\n",
              "\n",
              "/* Estimator-specific style */\n",
              "\n",
              "/* Colorize estimator box */\n",
              "#sk-container-id-1 div.sk-estimator input.sk-toggleable__control:checked~label.sk-toggleable__label {\n",
              "  /* unfitted */\n",
              "  background-color: var(--sklearn-color-unfitted-level-2);\n",
              "}\n",
              "\n",
              "#sk-container-id-1 div.sk-estimator.fitted input.sk-toggleable__control:checked~label.sk-toggleable__label {\n",
              "  /* fitted */\n",
              "  background-color: var(--sklearn-color-fitted-level-2);\n",
              "}\n",
              "\n",
              "#sk-container-id-1 div.sk-label label.sk-toggleable__label,\n",
              "#sk-container-id-1 div.sk-label label {\n",
              "  /* The background is the default theme color */\n",
              "  color: var(--sklearn-color-text-on-default-background);\n",
              "}\n",
              "\n",
              "/* On hover, darken the color of the background */\n",
              "#sk-container-id-1 div.sk-label:hover label.sk-toggleable__label {\n",
              "  color: var(--sklearn-color-text);\n",
              "  background-color: var(--sklearn-color-unfitted-level-2);\n",
              "}\n",
              "\n",
              "/* Label box, darken color on hover, fitted */\n",
              "#sk-container-id-1 div.sk-label.fitted:hover label.sk-toggleable__label.fitted {\n",
              "  color: var(--sklearn-color-text);\n",
              "  background-color: var(--sklearn-color-fitted-level-2);\n",
              "}\n",
              "\n",
              "/* Estimator label */\n",
              "\n",
              "#sk-container-id-1 div.sk-label label {\n",
              "  font-family: monospace;\n",
              "  font-weight: bold;\n",
              "  display: inline-block;\n",
              "  line-height: 1.2em;\n",
              "}\n",
              "\n",
              "#sk-container-id-1 div.sk-label-container {\n",
              "  text-align: center;\n",
              "}\n",
              "\n",
              "/* Estimator-specific */\n",
              "#sk-container-id-1 div.sk-estimator {\n",
              "  font-family: monospace;\n",
              "  border: 1px dotted var(--sklearn-color-border-box);\n",
              "  border-radius: 0.25em;\n",
              "  box-sizing: border-box;\n",
              "  margin-bottom: 0.5em;\n",
              "  /* unfitted */\n",
              "  background-color: var(--sklearn-color-unfitted-level-0);\n",
              "}\n",
              "\n",
              "#sk-container-id-1 div.sk-estimator.fitted {\n",
              "  /* fitted */\n",
              "  background-color: var(--sklearn-color-fitted-level-0);\n",
              "}\n",
              "\n",
              "/* on hover */\n",
              "#sk-container-id-1 div.sk-estimator:hover {\n",
              "  /* unfitted */\n",
              "  background-color: var(--sklearn-color-unfitted-level-2);\n",
              "}\n",
              "\n",
              "#sk-container-id-1 div.sk-estimator.fitted:hover {\n",
              "  /* fitted */\n",
              "  background-color: var(--sklearn-color-fitted-level-2);\n",
              "}\n",
              "\n",
              "/* Specification for estimator info (e.g. \"i\" and \"?\") */\n",
              "\n",
              "/* Common style for \"i\" and \"?\" */\n",
              "\n",
              ".sk-estimator-doc-link,\n",
              "a:link.sk-estimator-doc-link,\n",
              "a:visited.sk-estimator-doc-link {\n",
              "  float: right;\n",
              "  font-size: smaller;\n",
              "  line-height: 1em;\n",
              "  font-family: monospace;\n",
              "  background-color: var(--sklearn-color-background);\n",
              "  border-radius: 1em;\n",
              "  height: 1em;\n",
              "  width: 1em;\n",
              "  text-decoration: none !important;\n",
              "  margin-left: 1ex;\n",
              "  /* unfitted */\n",
              "  border: var(--sklearn-color-unfitted-level-1) 1pt solid;\n",
              "  color: var(--sklearn-color-unfitted-level-1);\n",
              "}\n",
              "\n",
              ".sk-estimator-doc-link.fitted,\n",
              "a:link.sk-estimator-doc-link.fitted,\n",
              "a:visited.sk-estimator-doc-link.fitted {\n",
              "  /* fitted */\n",
              "  border: var(--sklearn-color-fitted-level-1) 1pt solid;\n",
              "  color: var(--sklearn-color-fitted-level-1);\n",
              "}\n",
              "\n",
              "/* On hover */\n",
              "div.sk-estimator:hover .sk-estimator-doc-link:hover,\n",
              ".sk-estimator-doc-link:hover,\n",
              "div.sk-label-container:hover .sk-estimator-doc-link:hover,\n",
              ".sk-estimator-doc-link:hover {\n",
              "  /* unfitted */\n",
              "  background-color: var(--sklearn-color-unfitted-level-3);\n",
              "  color: var(--sklearn-color-background);\n",
              "  text-decoration: none;\n",
              "}\n",
              "\n",
              "div.sk-estimator.fitted:hover .sk-estimator-doc-link.fitted:hover,\n",
              ".sk-estimator-doc-link.fitted:hover,\n",
              "div.sk-label-container:hover .sk-estimator-doc-link.fitted:hover,\n",
              ".sk-estimator-doc-link.fitted:hover {\n",
              "  /* fitted */\n",
              "  background-color: var(--sklearn-color-fitted-level-3);\n",
              "  color: var(--sklearn-color-background);\n",
              "  text-decoration: none;\n",
              "}\n",
              "\n",
              "/* Span, style for the box shown on hovering the info icon */\n",
              ".sk-estimator-doc-link span {\n",
              "  display: none;\n",
              "  z-index: 9999;\n",
              "  position: relative;\n",
              "  font-weight: normal;\n",
              "  right: .2ex;\n",
              "  padding: .5ex;\n",
              "  margin: .5ex;\n",
              "  width: min-content;\n",
              "  min-width: 20ex;\n",
              "  max-width: 50ex;\n",
              "  color: var(--sklearn-color-text);\n",
              "  box-shadow: 2pt 2pt 4pt #999;\n",
              "  /* unfitted */\n",
              "  background: var(--sklearn-color-unfitted-level-0);\n",
              "  border: .5pt solid var(--sklearn-color-unfitted-level-3);\n",
              "}\n",
              "\n",
              ".sk-estimator-doc-link.fitted span {\n",
              "  /* fitted */\n",
              "  background: var(--sklearn-color-fitted-level-0);\n",
              "  border: var(--sklearn-color-fitted-level-3);\n",
              "}\n",
              "\n",
              ".sk-estimator-doc-link:hover span {\n",
              "  display: block;\n",
              "}\n",
              "\n",
              "/* \"?\"-specific style due to the `<a>` HTML tag */\n",
              "\n",
              "#sk-container-id-1 a.estimator_doc_link {\n",
              "  float: right;\n",
              "  font-size: 1rem;\n",
              "  line-height: 1em;\n",
              "  font-family: monospace;\n",
              "  background-color: var(--sklearn-color-background);\n",
              "  border-radius: 1rem;\n",
              "  height: 1rem;\n",
              "  width: 1rem;\n",
              "  text-decoration: none;\n",
              "  /* unfitted */\n",
              "  color: var(--sklearn-color-unfitted-level-1);\n",
              "  border: var(--sklearn-color-unfitted-level-1) 1pt solid;\n",
              "}\n",
              "\n",
              "#sk-container-id-1 a.estimator_doc_link.fitted {\n",
              "  /* fitted */\n",
              "  border: var(--sklearn-color-fitted-level-1) 1pt solid;\n",
              "  color: var(--sklearn-color-fitted-level-1);\n",
              "}\n",
              "\n",
              "/* On hover */\n",
              "#sk-container-id-1 a.estimator_doc_link:hover {\n",
              "  /* unfitted */\n",
              "  background-color: var(--sklearn-color-unfitted-level-3);\n",
              "  color: var(--sklearn-color-background);\n",
              "  text-decoration: none;\n",
              "}\n",
              "\n",
              "#sk-container-id-1 a.estimator_doc_link.fitted:hover {\n",
              "  /* fitted */\n",
              "  background-color: var(--sklearn-color-fitted-level-3);\n",
              "}\n",
              "</style><div id=\"sk-container-id-1\" class=\"sk-top-container\"><div class=\"sk-text-repr-fallback\"><pre>LinearRegression()</pre><b>In a Jupyter environment, please rerun this cell to show the HTML representation or trust the notebook. <br />On GitHub, the HTML representation is unable to render, please try loading this page with nbviewer.org.</b></div><div class=\"sk-container\" hidden><div class=\"sk-item\"><div class=\"sk-estimator fitted sk-toggleable\"><input class=\"sk-toggleable__control sk-hidden--visually\" id=\"sk-estimator-id-1\" type=\"checkbox\" checked><label for=\"sk-estimator-id-1\" class=\"sk-toggleable__label fitted sk-toggleable__label-arrow fitted\">&nbsp;&nbsp;LinearRegression<a class=\"sk-estimator-doc-link fitted\" rel=\"noreferrer\" target=\"_blank\" href=\"https://scikit-learn.org/1.5/modules/generated/sklearn.linear_model.LinearRegression.html\">?<span>Documentation for LinearRegression</span></a><span class=\"sk-estimator-doc-link fitted\">i<span>Fitted</span></span></label><div class=\"sk-toggleable__content fitted\"><pre>LinearRegression()</pre></div> </div></div></div></div>"
            ],
            "text/plain": [
              "LinearRegression()"
            ]
          },
          "execution_count": 9,
          "metadata": {},
          "output_type": "execute_result"
        }
      ],
      "source": [
        "# Initialize the Linear Regression model\n",
        "model = LinearRegression()\n",
        "\n",
        "# Train the model using the training data\n",
        "model.fit(X_train, y_train)\n"
      ]
    },
    {
      "cell_type": "markdown",
      "metadata": {
        "id": "USifqOIqfkWJ"
      },
      "source": [
        "# Metrics for Linear Regression"
      ]
    },
    {
      "cell_type": "code",
      "execution_count": 10,
      "metadata": {
        "colab": {
          "base_uri": "https://localhost:8080/"
        },
        "id": "MofBZQamd5Vt",
        "outputId": "231e00ca-abce-459d-9ea7-3935be4aa9ce"
      },
      "outputs": [
        {
          "name": "stdout",
          "output_type": "stream",
          "text": [
            "Mean Squared Error: 3.56689352443728e+23\n",
            "R² Score: -1.4729532640336882e+24\n"
          ]
        }
      ],
      "source": [
        "from sklearn.metrics import mean_squared_error, r2_score\n",
        "\n",
        "# Make predictions on the test set\n",
        "y_pred = model.predict(X_test)\n",
        "\n",
        "# Evaluate the model\n",
        "mse = mean_squared_error(y_test, y_pred)\n",
        "r2 = r2_score(y_test, y_pred)\n",
        "\n",
        "print(f'Mean Squared Error: {mse}')\n",
        "print(f'R² Score: {r2}')\n"
      ]
    },
    {
      "cell_type": "code",
      "execution_count": 11,
      "metadata": {
        "colab": {
          "base_uri": "https://localhost:8080/",
          "height": 472
        },
        "id": "dNqwnk7td_Gi",
        "outputId": "745fbf80-8dae-4629-bce9-7f27fe6a97c1"
      },
      "outputs": [
        {
          "data": {
            "image/png": "[encoded data removed]",
            "text/plain": [
              "<Figure size 640x480 with 2 Axes>"
            ]
          },
          "metadata": {},
          "output_type": "display_data"
        }
      ],
      "source": [
        "from sklearn.metrics import confusion_matrix, ConfusionMatrixDisplay\n",
        "import matplotlib.pyplot as plt\n",
        "# Convert predicted probabilities to binary values (using a threshold of 0.5)\n",
        "y_pred_binary = (y_pred > 0.5).astype(int)\n",
        "\n",
        "# Compute confusion matrix\n",
        "cm = confusion_matrix(y_test, y_pred_binary)\n",
        "\n",
        "# Display the confusion matrix\n",
        "cmd = ConfusionMatrixDisplay(confusion_matrix=cm, display_labels=[\"No Depression\", \"Depression\"])\n",
        "cmd.plot(cmap='Blues')\n",
        "plt.title(\"Confusion Matrix\")\n",
        "plt.show()\n"
      ]
    },
    {
      "cell_type": "code",
      "execution_count": 12,
      "metadata": {
        "colab": {
          "base_uri": "https://localhost:8080/"
        },
        "id": "Jqa4pUwEecEw",
        "outputId": "abaaa1f3-9111-42a1-b11d-16179deba753"
      },
      "outputs": [
        {
          "name": "stdout",
          "output_type": "stream",
          "text": [
            "Accuracy: 0.8441446613088404\n",
            "Precision: 0.8516445066480056\n",
            "Recall: 0.8902706656912948\n",
            "F1-Score: 0.8705293276108726\n"
          ]
        }
      ],
      "source": [
        "from sklearn.metrics import accuracy_score, precision_score, recall_score, f1_score\n",
        "\n",
        "# Accuracy\n",
        "accuracy = accuracy_score(y_test, y_pred_binary)\n",
        "\n",
        "# Precision, Recall, F1-Score\n",
        "precision = precision_score(y_test, y_pred_binary)\n",
        "recall = recall_score(y_test, y_pred_binary)\n",
        "f1 = f1_score(y_test, y_pred_binary)\n",
        "\n",
        "print(f\"Accuracy: {accuracy}\")\n",
        "print(f\"Precision: {precision}\")\n",
        "print(f\"Recall: {recall}\")\n",
        "print(f\"F1-Score: {f1}\")\n"
      ]
    },
    {
      "cell_type": "code",
      "execution_count": 13,
      "metadata": {
        "colab": {
          "base_uri": "https://localhost:8080/"
        },
        "id": "iOxLrleefZds",
        "outputId": "0a68840d-35a6-4243-984b-e9ccf3358cc5"
      },
      "outputs": [
        {
          "name": "stdout",
          "output_type": "stream",
          "text": [
            "                                    Feature   Coefficient  Abs_Coefficient\n",
            "43        Profession_Educational Consultant  2.538400e+11     2.538400e+11\n",
            "47                    Profession_Pharmacist  1.233242e+11     1.233242e+11\n",
            "46                       Profession_Manager -9.759599e+10     9.759599e+10\n",
            "85  Have you ever had suicidal thoughts ?_1  1.834064e-01     1.834064e-01\n",
            "1                         Academic Pressure  1.511700e-01     1.511700e-01\n",
            "..                                      ...           ...              ...\n",
            "81                    Sleep Duration_Others -3.313464e-04     3.313464e-04\n",
            "38                          Profession_Chef -2.168115e-04     2.168115e-04\n",
            "69                               Degree_MBA -1.495273e-04     1.495273e-04\n",
            "66                           Degree_M.Pharm -9.031887e-05     9.031887e-05\n",
            "50                Profession_UX/UI Designer -1.405515e-05     1.405515e-05\n",
            "\n",
            "[86 rows x 3 columns]\n"
          ]
        }
      ],
      "source": [
        "# Feature importance\n",
        "# Get the feature importance (coefficients)\n",
        "feature_importance = pd.DataFrame({\n",
        "    'Feature': X.columns,  # Assuming X is a DataFrame\n",
        "    'Coefficient': model.coef_\n",
        "})\n",
        "\n",
        "# Sort by absolute value of coefficients to see which features matter most\n",
        "feature_importance['Abs_Coefficient'] = feature_importance['Coefficient'].abs()\n",
        "feature_importance = feature_importance.sort_values(by='Abs_Coefficient', ascending=False)\n",
        "\n",
        "print(feature_importance)"
      ]
    },
    {
      "cell_type": "markdown",
      "metadata": {},
      "source": [
        "## Decision Tree Model"
      ]
    },
    {
      "cell_type": "markdown",
      "metadata": {},
      "source": [
        "### Setup \n"
      ]
    },
    {
      "cell_type": "code",
      "execution_count": 14,
      "metadata": {},
      "outputs": [],
      "source": [
        "\n",
        "# Import required libraries\n",
        "from sklearn.tree import DecisionTreeClassifier, plot_tree\n",
        "from sklearn.model_selection import train_test_split\n",
        "from sklearn.metrics import (accuracy_score, precision_score, recall_score, \n",
        "                             f1_score, confusion_matrix, classification_report,\n",
        "                             ConfusionMatrixDisplay)\n",
        "import matplotlib.pyplot as plt\n",
        "import pandas as pd\n",
        "\n",
        "# Features (X) and target (y)\n",
        "X = df_encoded.drop(columns=['Depression', 'id'])\n",
        "y = df_encoded['Depression']\n",
        "\n",
        "# Split the data into training and test sets\n",
        "X_train_dt, X_test_dt, y_train_dt, y_test_dt = train_test_split(X, y, test_size=0.25, random_state=42)\n",
        "\n",
        "# Initialize the Decision Tree Classifier\n",
        "dt_model = DecisionTreeClassifier(random_state=42)\n",
        "\n",
        "# Train the Decision Tree model\n",
        "dt_model.fit(X_train_dt, y_train_dt)\n",
        "\n",
        "# Make predictions on the test set\n",
        "y_pred_dt = dt_model.predict(X_test_dt)"
      ]
    },
    {
      "cell_type": "markdown",
      "metadata": {},
      "source": [
        "# Metrics for Decision Tree Model"
      ]
    },
    {
      "cell_type": "code",
      "execution_count": 15,
      "metadata": {},
      "outputs": [
        {
          "name": "stdout",
          "output_type": "stream",
          "text": [
            "Decision Tree Performance:\n",
            "Accuracy: 0.7736796785304249\n",
            "Precision: 0.8001902949571836\n",
            "Recall: 0.820287734698854\n",
            "F1 Score: 0.8101143889223359\n",
            "\n"
          ]
        }
      ],
      "source": [
        "# Evaluate model performance\n",
        "accuracy_dt = accuracy_score(y_test_dt, y_pred_dt)\n",
        "precision_dt = precision_score(y_test_dt, y_pred_dt)\n",
        "recall_dt = recall_score(y_test_dt, y_pred_dt)\n",
        "f1_dt = f1_score(y_test_dt, y_pred_dt)\n",
        "\n",
        "print(\"Decision Tree Performance:\")\n",
        "print(f\"Accuracy: {accuracy_dt}\")\n",
        "print(f\"Precision: {precision_dt}\")\n",
        "print(f\"Recall: {recall_dt}\")\n",
        "print(f\"F1 Score: {f1_dt}\\n\")"
      ]
    },
    {
      "cell_type": "markdown",
      "metadata": {},
      "source": [
        "## Visualization of Decision Tree Model Results"
      ]
    },
    {
      "cell_type": "code",
      "execution_count": 59,
      "metadata": {},
      "outputs": [
        {
          "data": {
            "image/png": "[encoded data removed]",
            "text/plain": [
              "<Figure size 640x480 with 2 Axes>"
            ]
          },
          "metadata": {},
          "output_type": "display_data"
        },
        {
          "name": "stdout",
          "output_type": "stream",
          "text": [
            "Decision Tree Feature Importance:\n",
            "                                    Feature  Importance\n",
            "85  Have you ever had suicidal thoughts ?_1    0.297991\n",
            "1                         Academic Pressure    0.137497\n",
            "2                                      CGPA    0.077571\n",
            "6                          Financial Stress    0.069854\n",
            "0                                       Age    0.063192\n",
            "..                                      ...         ...\n",
            "42                        Profession_Doctor    0.000000\n",
            "40                Profession_Content Writer    0.000000\n",
            "39                Profession_Civil Engineer    0.000000\n",
            "38                          Profession_Chef    0.000000\n",
            "43        Profession_Educational Consultant    0.000000\n",
            "\n",
            "[86 rows x 2 columns]\n"
          ]
        }
      ],
      "source": [
        "# Plot the confusion matrix\n",
        "cm_dt = confusion_matrix(y_test_dt, y_pred_dt)\n",
        "cmd_dt = ConfusionMatrixDisplay(confusion_matrix=cm_dt, \n",
        "                                display_labels=[\"No Depression\", \"Depression\"])\n",
        "cmd_dt.plot(cmap='Blues')\n",
        "plt.title(\"Decision Tree Confusion Matrix\")\n",
        "plt.show()\n",
        "\n",
        "# Feature Importance\n",
        "feature_importance_dt = pd.DataFrame({\n",
        "    'Feature': X.columns,\n",
        "    'Importance': dt_model.feature_importances_\n",
        "}).sort_values(by='Importance', ascending=False)\n",
        "\n",
        "print(\"Decision Tree Feature Importance:\")\n",
        "print(feature_importance_dt)"
      ]
    },
    {
      "cell_type": "markdown",
      "metadata": {},
      "source": [
        "## Gradient Boosting Machines"
      ]
    },
    {
      "cell_type": "markdown",
      "metadata": {},
      "source": [
        "### Setup"
      ]
    },
    {
      "cell_type": "code",
      "execution_count": null,
      "metadata": {},
      "outputs": [],
      "source": [
        "from sklearn.ensemble import GradientBoostingClassifier\n",
        "\n",
        "gbm_model = GradientBoostingClassifier(random_state=42)\n",
        "\n",
        "gbm_model.fit(X_train_dt, y_train_dt)\n",
        "\n",
        "y_pred_gbm = gbm_model.predict(X_test_dt)"
      ]
    },
    {
      "cell_type": "markdown",
      "metadata": {},
      "source": [
        "### Metrics"
      ]
    },
    {
      "cell_type": "code",
      "execution_count": null,
      "metadata": {},
      "outputs": [
        {
          "name": "stdout",
          "output_type": "stream",
          "text": [
            "Decision Tree Performance:\n",
            "Accuracy: 0.847158438576349\n",
            "Precision: 0.8560037523452158\n",
            "Recall: 0.8900268227261644\n",
            "F1 Score: 0.8726838015540944\n",
            "\n"
          ]
        }
      ],
      "source": [
        "# Evaluate model performance\n",
        "accuracy_gbm = accuracy_score(y_test_dt, y_pred_gbm)\n",
        "precision_gbm = precision_score(y_test_dt, y_pred_gbm)\n",
        "recall_gbm = recall_score(y_test_dt, y_pred_gbm)\n",
        "f1_gbm = f1_score(y_test_dt, y_pred_gbm)\n",
        "\n",
        "print(\"Gradient Boosting Performance:\")\n",
        "print(f\"Accuracy: {accuracy_gbm}\")\n",
        "print(f\"Precision: {precision_gbm}\")\n",
        "print(f\"Recall: {recall_gbm}\")\n",
        "print(f\"F1 Score: {f1_gbm}\\n\")"
      ]
    },
    {
      "cell_type": "code",
      "execution_count": 29,
      "metadata": {},
      "outputs": [
        {
          "data": {
            "image/png": "[encoded data removed]",
            "text/plain": [
              "<Figure size 640x480 with 2 Axes>"
            ]
          },
          "metadata": {},
          "output_type": "display_data"
        },
        {
          "name": "stdout",
          "output_type": "stream",
          "text": [
            "Gradient Boosting Feature Importance:\n",
            "                                    Feature  Importance\n",
            "85  Have you ever had suicidal thoughts ?_1    0.517771\n",
            "1                         Academic Pressure    0.242425\n",
            "6                          Financial Stress    0.107903\n",
            "0                                       Age    0.049169\n",
            "5                          Work/Study Hours    0.027751\n",
            "..                                      ...         ...\n",
            "47                    Profession_Pharmacist    0.000000\n",
            "49                       Profession_Teacher    0.000000\n",
            "50                Profession_UX/UI Designer    0.000000\n",
            "52                              Degree_B.Ed    0.000000\n",
            "43        Profession_Educational Consultant    0.000000\n",
            "\n",
            "[86 rows x 2 columns]\n"
          ]
        }
      ],
      "source": [
        "cm_gbm = confusion_matrix(y_test_dt, y_pred_gbm)\n",
        "cm_gbm = ConfusionMatrixDisplay(confusion_matrix=cm_gbm, display_labels=[\"No Depression\", \"Depression\"])\n",
        "\n",
        "cm_gbm.plot(cmap='Blues')\n",
        "plt.title(\"Gradient Boosting Confusion Matrix\")\n",
        "plt.show()\n",
        "\n",
        "feature_importance_gbm = pd.DataFrame({\n",
        "    'Feature': X.columns,\n",
        "    'Importance': gbm_model.feature_importances_\n",
        "}).sort_values(by='Importance', ascending=False)\n",
        "\n",
        "print(\"Gradient Boosting Feature Importance:\")\n",
        "print(feature_importance_gbm)"
      ]
    }
  ],
  "metadata": {
    "colab": {
      "provenance": []
    },
    "kernelspec": {
      "display_name": "base",
      "language": "python",
      "name": "python3"
    },
    "language_info": {
      "codemirror_mode": {
        "name": "ipython",
        "version": 3
      },
      "file_extension": ".py",
      "mimetype": "text/x-python",
      "name": "python",
      "nbconvert_exporter": "python",
      "pygments_lexer": "ipython3",
      "version": "3.12.7"
    }
  },
  "nbformat": 4,
  "nbformat_minor": 0
}
